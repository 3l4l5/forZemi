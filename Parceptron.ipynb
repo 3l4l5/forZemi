{
 "cells": [
  {
   "cell_type": "markdown",
   "metadata": {},
   "source": [
    "# パーセプトロン"
   ]
  },
  {
   "cell_type": "markdown",
   "metadata": {},
   "source": [
    "作成者：往蔵隆成"
   ]
  },
  {
   "cell_type": "markdown",
   "metadata": {},
   "source": [
    "## 1 パーセプトロン "
   ]
  },
  {
   "cell_type": "markdown",
   "metadata": {},
   "source": [
    "### 1.1 パーセプトロンの理論的説明"
   ]
  },
  {
   "cell_type": "markdown",
   "metadata": {},
   "source": [
    "<div align=\"center\">\n",
    "<img src=\"Perceptron.png\" width=\"600\">\n",
    "</div>"
   ]
  },
  {
   "cell_type": "markdown",
   "metadata": {},
   "source": [
    "パーセプトロンとは上の図で示されているような構造を持つ計算機構\n",
    "<br>計算式では"
   ]
  },
  {
   "cell_type": "markdown",
   "metadata": {},
   "source": [
    "\\begin{equation} z = w_{1}x_{1} +w_{2}x_{2}\\tag{1}\\end{equation}<br>\n",
    "\\begin{cases}z>\\theta \\Rightarrow y = 1\\\\z\\leq \\theta \\Rightarrow y = 0\\tag{2}\\end{cases}"
   ]
  },
  {
   "cell_type": "markdown",
   "metadata": {},
   "source": [
    "であらわされる"
   ]
  },
  {
   "cell_type": "markdown",
   "metadata": {},
   "source": [
    "さて、何のこっちゃという感じだと思いますが、具体例で考えて見よう<br>例えばこんな真理値表があったとする"
   ]
  },
  {
   "cell_type": "markdown",
   "metadata": {},
   "source": [
    "|\\begin{align}x_{1}\\end{align}|\\begin{align}x_{2}\\end{align}|\\begin{align}y\\end{align}|\n",
    "|:----------------------------|:----------------------------|:------------------------|\n",
    "|1|1|1|\n",
    "|1|0|1|\n",
    "|0|1|1|\n",
    "|0|0|0|"
   ]
  },
  {
   "cell_type": "markdown",
   "metadata": {},
   "source": [
    "皆さんご存じこれはOR演算の真理値表です\n",
    "<br>実は、これは先ほどのパーセプトロンを用いて計算することができます\n",
    "<br>もし、上の式において$w_{1}$,$w_{2}$,$\\theta$の値が"
   ]
  },
  {
   "cell_type": "markdown",
   "metadata": {},
   "source": [
    "\\begin{align} w_{1} & =  0.6\\end{align}\n",
    "\\begin{align} w_{2} & =  0.7 \\end{align}\n",
    "\\begin{align} \\theta & =  0.5\\end{align}"
   ]
  },
  {
   "cell_type": "markdown",
   "metadata": {},
   "source": [
    "だったとしたら, $x_{1},x_{2}$ の入力に対して $z$ はどのように計算されるでしょうか\n",
    "<br>$w_{1}$,$w_{2}$を上のように設定したので、$z$は以下のようになります"
   ]
  },
  {
   "cell_type": "markdown",
   "metadata": {},
   "source": [
    "\\begin{align} z = x_{1}\\times0.6 +x_{2}\\times0.7\\end{align}<br>\n",
    "よって、各入力に対して出力zは以下の表のようになることがわかる"
   ]
  },
  {
   "cell_type": "markdown",
   "metadata": {},
   "source": [
    "|\\begin{align}x_{1}\\end{align}|\\begin{align}x_{2}\\end{align}|\\begin{align}z\\end{align}|\n",
    "|:----------------------------|:----------------------------|:------------------------|\n",
    "|1|1|1.3|\n",
    "|1|0|0.6|\n",
    "|0|1|0.7|\n",
    "|0|0|0|"
   ]
  },
  {
   "cell_type": "markdown",
   "metadata": {},
   "source": [
    "ここで、閾値($ \\theta = 0.5$)の値に従えば、このパーセプトロンの出力値は以下の表のようになる"
   ]
  },
  {
   "cell_type": "markdown",
   "metadata": {},
   "source": [
    "|\\begin{align}z\\end{align}|⇒|\\begin{align}y\\end{align}|\n",
    "|:----------------------------:|:----------------------------:|:------------------------:|\n",
    "|1.3|\\<>|1|\n",
    "|0.6|\\<>|1|\n",
    "|0.7|\\<>|1|\n",
    "|0|\\<>|0|"
   ]
  },
  {
   "cell_type": "markdown",
   "metadata": {},
   "source": [
    "最後にまとめると、以下の表のようになる"
   ]
  },
  {
   "cell_type": "markdown",
   "metadata": {},
   "source": [
    "|\\begin{align}x_{1}\\end{align}|\\begin{align}x_{2}\\end{align}|\\begin{align}z\\end{align}|⇒|\\begin{align}y\\end{align}|\n",
    "|:---------------------------:|:---------------------------:|:-----------------------:|:-:|:----------------------:|\n",
    "|1|1|1.3|>0.5|1|\n",
    "|1|0|0.6|>0.5|1|\n",
    "|0|1|0.7|>0.5|1|\n",
    "|0|0|0|<0.5|0|"
   ]
  },
  {
   "cell_type": "markdown",
   "metadata": {},
   "source": [
    "このような、ただの代数演算が単一パーセプトロンであり、これが今日、人間の職を奪うとされている**_Deep Neural Network_**の原点となるのである"
   ]
  },
  {
   "cell_type": "markdown",
   "metadata": {},
   "source": [
    "### 1.2 パーセプトロンをPythonで実装してみよう"
   ]
  },
  {
   "cell_type": "markdown",
   "metadata": {},
   "source": [
    "では、今勉強したパーセプトロンをプログラミング言語Pythonを用いて実装してみましょう！"
   ]
  },
  {
   "cell_type": "code",
   "execution_count": null,
   "metadata": {},
   "outputs": [],
   "source": [
    "# この左側に[ ]があるものはコードブロックといいpythonのプログラムを書き込むことができます"
   ]
  },
  {
   "cell_type": "code",
   "execution_count": null,
   "metadata": {},
   "outputs": [],
   "source": [
    "print(\"Hello World\") #何かを表示したいときは print を用います\n",
    "print(2**10) # 計算結果なども簡単に表示することができます"
   ]
  },
  {
   "cell_type": "markdown",
   "metadata": {},
   "source": [
    "まず、先ほど登場した$w_{1}$,$w_{2}$,$\\theta$を定義しましょう"
   ]
  },
  {
   "cell_type": "code",
   "execution_count": null,
   "metadata": {},
   "outputs": [],
   "source": [
    "w_1 = 0.6\n",
    "w_2 = 0.7\n",
    "theta = 0.5"
   ]
  },
  {
   "cell_type": "markdown",
   "metadata": {},
   "source": [
    "そして、式(1)(2)にしたがって$x_{1},x_{2}$を入力として結果を出力する関数を作成します"
   ]
  },
  {
   "cell_type": "markdown",
   "metadata": {},
   "source": [
    "\\begin{equation} z = w_{1}x_{1} +w_{2}x_{2}\\tag{1}\\end{equation}<br>\n",
    "\\begin{cases}z>\\theta \\Rightarrow y = 1\\\\z\\leq \\theta \\Rightarrow y = 0\\tag{2}\\end{cases}"
   ]
  },
  {
   "cell_type": "code",
   "execution_count": null,
   "metadata": {},
   "outputs": [],
   "source": [
    "def perceptron(x_1, x_2, w_1, w_2, theta):\n",
    "    z = w_1 * x_1 + w_2 * x_2 # zの値を計算してみて\n",
    "    \n",
    "    if z > theta: # もしzの値がthetaよりも大きければ１ を返す\n",
    "        return 1\n",
    "    if z <= theta: # もしzの値がthetaよりも小さければ 0 を返す\n",
    "        return 0"
   ]
  },
  {
   "cell_type": "markdown",
   "metadata": {},
   "source": [
    "これで、2入力のパーセプトロンの関数を定義することができました。実際に使用してみましょう"
   ]
  },
  {
   "cell_type": "code",
   "execution_count": null,
   "metadata": {},
   "outputs": [],
   "source": [
    "print(\"x1 = 1, x2 = 1 ⇒\", perceptron(1, 1, w_1, w_2, theta))\n",
    "print(\"x1 = 1, x2 = 0 ⇒\", perceptron(1, 0, w_1, w_2, theta))\n",
    "print(\"x1 = 0, x2 = 1 ⇒\", perceptron(0, 1, w_1, w_2, theta))\n",
    "print(\"x1 = 0, x2 = 0 ⇒\", perceptron(0, 0, w_1, w_2, theta))"
   ]
  },
  {
   "cell_type": "markdown",
   "metadata": {},
   "source": [
    "どうでしょう、このパーセプトロンのふるまいは明らかにor関数のものと一致していますね<br>このように、パーセプトロンを用いて論理演算の関数を作ることができるということが明らかになりました。"
   ]
  },
  {
   "cell_type": "markdown",
   "metadata": {},
   "source": [
    "では、いま作成した関数とパラメータをセットにしてor関数として定義しなおしましょう"
   ]
  },
  {
   "cell_type": "code",
   "execution_count": null,
   "metadata": {},
   "outputs": [],
   "source": [
    "def OR(x_1, x_2): #本来Pythonでは慣用的に関数は小文字で表記するのだが、orは予約語であるので大文字で表記する\n",
    "    # 各変数の定義\n",
    "    w_1 = 0.6\n",
    "    w_2 = 0.7\n",
    "    theta = 0.5\n",
    "    \n",
    "    z = w_1 * x_1 + w_2 * x_2 # zの値を計算してみて\n",
    "    \n",
    "    if z > theta: # もしzの値がthetaよりも大きければ１ を返す\n",
    "        return 1\n",
    "    if z < theta: # もしzの値がthetaよりも小さければ 0 を返す\n",
    "        return 0"
   ]
  },
  {
   "cell_type": "markdown",
   "metadata": {},
   "source": [
    "では、OR関数を使ってみれば"
   ]
  },
  {
   "cell_type": "code",
   "execution_count": null,
   "metadata": {},
   "outputs": [],
   "source": [
    "print(\"x1 = 1, x2 = 1 ⇒\",OR(1,1))\n",
    "print(\"x1 = 1, x2 = 0 ⇒\",OR(1,0))\n",
    "print(\"x1 = 0, x2 = 1 ⇒\",OR(0,1))\n",
    "print(\"x1 = 0, x2 = 0 ⇒\",OR(0,0))"
   ]
  },
  {
   "cell_type": "markdown",
   "metadata": {},
   "source": [
    "このようにOR関数を作成することができた<br>\n",
    "ここから、さまざまなパラメータの値を設定してあげればいろんな演算が可能であることがわかった<br>\n",
    "では、ここでAND関数を作成するためにはどのような$w_{1}$,$w_{2}$,$\\theta$を設定すればいいだろうか"
   ]
  },
  {
   "cell_type": "code",
   "execution_count": null,
   "metadata": {},
   "outputs": [],
   "source": [
    "def AND(x_1, x_2): #本来Pythonでは慣用的に関数は小文字で表記するのだが、orは予約語であるので大文字で表記する\n",
    "    # 各変数の定義\n",
    "    w_1 = 0 #各自でパラメータを変更してみよう\n",
    "    w_2 = 0 #各自でパラメータを変更してみよう\n",
    "    theta = 0 #各自でパラメータを変更してみよう\n",
    "    \n",
    "    z = w_1 * x_1 + w_2 * x_2 # zの値を計算してみて\n",
    "    \n",
    "    if z > theta: # もしzの値がthetaよりも大きければ１ を返す\n",
    "        return 1\n",
    "    if z <= theta: # もしzの値がthetaよりも小さければ 0 を返す\n",
    "        return 0"
   ]
  },
  {
   "cell_type": "markdown",
   "metadata": {},
   "source": [
    "実際に動かして確認してみよう"
   ]
  },
  {
   "cell_type": "code",
   "execution_count": null,
   "metadata": {},
   "outputs": [],
   "source": [
    "print(\"x1 = 1, x2 = 1 ⇒\",AND(1,1))\n",
    "print(\"x1 = 1, x2 = 0 ⇒\",AND(1,0))\n",
    "print(\"x1 = 0, x2 = 1 ⇒\",AND(0,1))\n",
    "print(\"x1 = 0, x2 = 0 ⇒\",AND(0,0))"
   ]
  },
  {
   "cell_type": "markdown",
   "metadata": {},
   "source": [
    "ANDの挙動を示すパーセプトロンを作ることはできましたか？<br>\n",
    "もし余裕があれば、もっとパラメータをいじってみて、NANDやNORなどの論理計算ができる関数を作成してみましょう"
   ]
  },
  {
   "cell_type": "markdown",
   "metadata": {},
   "source": [
    "このように論理演算などをはじめとした認識問題はパーセプトロンを用いることで解決可能であると考えられ、パーセプトロンの研究は盛んにおこなわれることとなった"
   ]
  },
  {
   "cell_type": "markdown",
   "metadata": {},
   "source": [
    "### 1.2 単層パーセプトロンの限界"
   ]
  },
  {
   "cell_type": "markdown",
   "metadata": {},
   "source": [
    "しかしながら、1967年にミンスキーとシーモア・パパートにより、単一のパーセプトロンにはある限界があることが発見される。\n",
    "<br>それは非線形分類問題の解決不可能性である(ゼミ第一回を参照)"
   ]
  },
  {
   "cell_type": "markdown",
   "metadata": {},
   "source": [
    "今回、↑でAND関数とOR関数の定義を行ってもらった。ところでXOR(排他的論理和)の計算出力は、パーセプトロンに行うことはできるのであろうか"
   ]
  },
  {
   "cell_type": "markdown",
   "metadata": {},
   "source": [
    "|\\begin{align}x_{1}\\end{align}|\\begin{align}x_{2}\\end{align}|\\begin{align}y\\end{align}|\n",
    "|:----------------------------|:----------------------------|:------------------------|\n",
    "|1|1|0|\n",
    "|1|0|1|\n",
    "|0|1|1|\n",
    "|0|0|0|"
   ]
  },
  {
   "cell_type": "markdown",
   "metadata": {},
   "source": [
    "結論から言えば、これは再現できない<br>なぜなら、線形分離不可能であるからである。\n",
    "<br>線形分離不可能とはどういうことか、今日やってきたANDとORについて、以下に二次元平面上にプロットしたものを示す"
   ]
  },
  {
   "cell_type": "markdown",
   "metadata": {},
   "source": [
    "<div align=\"center\">\n",
    "<img src=\"ANDOR.png\" width=\"800\">\n",
    "</div>"
   ]
  },
  {
   "cell_type": "markdown",
   "metadata": {},
   "source": [
    "この二つは以下の図のように赤い直線で分離することができる"
   ]
  },
  {
   "cell_type": "markdown",
   "metadata": {},
   "source": [
    "<div align=\"center\">\n",
    "<img src=\"ANDOR2.png\" width=\"800\">\n",
    "</div>"
   ]
  },
  {
   "cell_type": "markdown",
   "metadata": {},
   "source": [
    "簡単に言ってしまえば、この「直線で分離することができる」というのが、「線形分離可能」であり、<br>「線形分離不可能」とはその反対、つまり直線で分離することができないような問題のことを言う"
   ]
  },
  {
   "cell_type": "markdown",
   "metadata": {},
   "source": [
    "実際に、排他的論理和の真理値表を二次元平面上にプロットしてみた図を以下に示す"
   ]
  },
  {
   "cell_type": "markdown",
   "metadata": {},
   "source": [
    "<div align=\"center\">\n",
    "<img src=\"XOR.png\" width=\"600\">\n",
    "</div>"
   ]
  },
  {
   "cell_type": "markdown",
   "metadata": {},
   "source": [
    "みてもわかる通り、排他的論理和を分類するには直線では不可能だ<br>\n",
    "この線形分離不可能な問題について、単層のパーセプトロンでは実装することができないと指摘されることがきっかけとなり、第一次人工知能ブームは終わってしまう"
   ]
  },
  {
   "cell_type": "markdown",
   "metadata": {},
   "source": [
    "### 1.3 多層パーセプトロンで解決！"
   ]
  },
  {
   "cell_type": "markdown",
   "metadata": {},
   "source": [
    "そんな残念なパーセプトロンかと思いきや、ある転機が訪れる<br>\n",
    "それはパーセプトロンの多層化による解決法の発見である<br>\n",
    "以下の図に単純な三層パーセプトロンの図を示す"
   ]
  },
  {
   "cell_type": "markdown",
   "metadata": {},
   "source": [
    "<div align=\"center\">\n",
    "<img src=\"Multilayer_perceptron.png\" width=\"800\">\n",
    "</div>"
   ]
  },
  {
   "cell_type": "markdown",
   "metadata": {},
   "source": [
    "何層になったとしても、一つの構成要素が行う計算は変わらない<br>\n",
    "しかし、変化するパラメータが<br>\n",
    "各矢印の重みである、<br>$w_{1 \\rightarrow 3}$, $w_{1 \\rightarrow 4}$, $w_{2 \\rightarrow 3}$, $w_{2 \\rightarrow 4}$, $w_{3 \\rightarrow 5}$, $w_{4 \\rightarrow 5}$<br>\n",
    "と、各ノード(一つのパーセプトロン)の閾値である、<br>\n",
    "$\\theta_{3}$, $\\theta_{4}$, $\\theta_{5}$<br>\n",
    "の計9個に達することになる<br>\n",
    "この9個のパラメータを変化させて、排他的論理和の結果が得られるような最適なパラメータを探すことで、XORを作ることができる"
   ]
  },
  {
   "cell_type": "markdown",
   "metadata": {},
   "source": [
    "しかし、こんな単純なパーセプトロンでさえ、パラメータがこんなにあり、人力で探すのは困難だ。<br>であるから、せっかくなのでこのパラメータ探索を自動で行えるようにしてみる"
   ]
  },
  {
   "cell_type": "markdown",
   "metadata": {},
   "source": [
    "まず、パーセプトロンの関数を組み合わせて、上のようなネットワークを作ってみる<br>\n",
    "パーセプトロンの関数はさっきせっかく作ったので、それをもう一回使おう"
   ]
  },
  {
   "cell_type": "markdown",
   "metadata": {},
   "source": [
    "はじめに、初期のパラメータの値を0にしておく"
   ]
  },
  {
   "cell_type": "code",
   "execution_count": null,
   "metadata": {},
   "outputs": [],
   "source": [
    "w_13 = 0\n",
    "w_14 = 0\n",
    "w_23 = 0\n",
    "w_24 = 0\n",
    "w_35 = 0\n",
    "w_45 = 0\n",
    "\n",
    "theta3 = 0\n",
    "theta4 = 0\n",
    "theta5 = 0\n",
    "\n",
    "# 簡単に記載するために辞書という形にパラメータを収納しておく。今回は話の本筋とは関係ないので説明は省略\n",
    "params = {\"w_13\":w_13, \"w_14\":w_14, \"w_23\":w_23, \"w_24\":w_24, \"w_35\":w_35, \"w_45\":w_45, \"theta3\":theta3, \"theta4\":theta4, \"theta5\":theta5}"
   ]
  },
  {
   "cell_type": "markdown",
   "metadata": {},
   "source": [
    "そんでもってパーセプトロンをつなげてみる"
   ]
  },
  {
   "cell_type": "markdown",
   "metadata": {},
   "source": [
    "<div align=\"center\">\n",
    "<img src=\"Multilayer_perceptron.png\" width=\"800\">\n",
    "</div>"
   ]
  },
  {
   "cell_type": "code",
   "execution_count": null,
   "metadata": {},
   "outputs": [],
   "source": [
    "# 入力をx_1,x_2,おもりと閾値のパラメータとして出力は計算された値\n",
    "def multilayer_perceptron(x_1, x_2, params):\n",
    "    \n",
    "    # おもりw_13 w_23 閾値theta3 と 入力x_1, x_2を入力してパーセプトロンの計算結果を得る\n",
    "    x_35 = perceptron(x_1, x_2, params[\"w_13\"], params[\"w_23\"], params[\"theta3\"])\n",
    "    \n",
    "    # おもりw_14 w_24 閾値theta4 と 入力x_1, x_2を入力してパーセプトロンの計算結果を得る\n",
    "    x_45 = perceptron(x_1, x_2, params[\"w_14\"], params[\"w_24\"], params[\"theta4\"])\n",
    "    \n",
    "    # おもりw_13 w_23 閾値theta3 と 上から出てきた値であるx_35, x_45を入力してパーセプトロンの計算結果を得る\n",
    "    y = perceptron(x_35, x_45, params[\"w_14\"], params[\"w_24\"], params[\"theta5\"])\n",
    "    \n",
    "    # 最後に出力された値を返す\n",
    "    return y"
   ]
  },
  {
   "cell_type": "markdown",
   "metadata": {},
   "source": [
    "ネットワークができたので値を出力してみる"
   ]
  },
  {
   "cell_type": "code",
   "execution_count": null,
   "metadata": {},
   "outputs": [],
   "source": [
    "print(\"x1 = 1, x2 = 1 ⇒\", multilayer_perceptron(1, 1, params))\n",
    "print(\"x1 = 1, x2 = 1 ⇒\", multilayer_perceptron(1, 0, params))\n",
    "print(\"x1 = 1, x2 = 1 ⇒\", multilayer_perceptron(0, 1, params))\n",
    "print(\"x1 = 1, x2 = 1 ⇒\", multilayer_perceptron(0, 0, params))"
   ]
  },
  {
   "cell_type": "markdown",
   "metadata": {},
   "source": [
    "当たり前だが、でたらめな値がでてきて到底排他的論理和とは言えない"
   ]
  },
  {
   "cell_type": "markdown",
   "metadata": {},
   "source": [
    "では、パラメータの値を変更してみよう"
   ]
  },
  {
   "cell_type": "markdown",
   "metadata": {},
   "source": [
    "変更のしかたは、今回は単純にランダムに変更することにする<br>では、一度変更してみよう"
   ]
  },
  {
   "cell_type": "code",
   "execution_count": null,
   "metadata": {},
   "outputs": [],
   "source": [
    "import random\n",
    "\n",
    "# おもりwをランダムな 0 ～　2の数字に再設定\n",
    "w_13 = random.uniform(-2, 2)\n",
    "w_14 = random.uniform(-2, 2)\n",
    "w_23 = random.uniform(-2, 2)\n",
    "w_24 = random.uniform(-2, 2)\n",
    "w_35 = random.uniform(-2, 2)\n",
    "w_45 = random.uniform(-2, 2)\n",
    "\n",
    "# 閾値thetaは 0　～　1の数字に再設定\n",
    "theta3 = random.uniform(-2, 2)\n",
    "theta4 = random.uniform(-2, 2)\n",
    "theta5 = random.uniform(-2, 2)\n",
    "\n",
    "# 簡単に記載するために辞書という形にパラメータを収納しておく。今回は鼻sの本筋とは関係ないので説明は省略\n",
    "params = {\"w_13\":w_13, \"w_14\":w_14, \"w_23\":w_23, \"w_24\":w_24, \"w_35\":w_35, \"w_45\":w_45, \"theta3\":theta3, \"theta4\":theta4, \"theta5\":theta5}"
   ]
  },
  {
   "cell_type": "code",
   "execution_count": null,
   "metadata": {},
   "outputs": [],
   "source": [
    "print(\"x1 = 1, x2 = 1 ⇒\", multilayer_perceptron(1, 1, params))\n",
    "print(\"x1 = 1, x2 = 0 ⇒\", multilayer_perceptron(1, 0, params))\n",
    "print(\"x1 = 0, x2 = 1 ⇒\", multilayer_perceptron(0, 1, params))\n",
    "print(\"x1 = 0, x2 = 0 ⇒\", multilayer_perceptron(0, 0, params))"
   ]
  },
  {
   "cell_type": "markdown",
   "metadata": {},
   "source": [
    "どうでしょう、出力される値が変わりましたね<br>排他的論理和の出力になっていない場合は何回か二個上のセルを実行しなおして所望の出力が出るか試してみましょう"
   ]
  },
  {
   "cell_type": "markdown",
   "metadata": {},
   "source": [
    "運が相当よくない限り、排他的論理和の結果にはならないでしょう<br>ですから、これを手動でなんども繰り返すのはしんどいので、python君に単純作業は任せましょう<br>\n",
    "以下のプログラムはwhile文を用いて、排他的論理和の出力が出てくるまでパラメータの更新をし続けてくれるプログラムです"
   ]
  },
  {
   "cell_type": "code",
   "execution_count": null,
   "metadata": {},
   "outputs": [],
   "source": [
    "result = []\n",
    "XOR = [0, 1, 1, 0]\n",
    "count = 0\n",
    "while result != XOR:\n",
    "    # おもりwをランダムな 0 ～　2の数字に再設定\n",
    "    w_13 = random.uniform(-2, 2)\n",
    "    w_14 = random.uniform(-2, 2)\n",
    "    w_23 = random.uniform(-2, 2)\n",
    "    w_24 = random.uniform(-2, 2)\n",
    "    w_35 = random.uniform(-2, 2)\n",
    "    w_45 = random.uniform(-2, 2)\n",
    "\n",
    "    # 閾値thetaは 0　～　1の数字に再設定\n",
    "    theta3 = random.uniform(-2, 2)\n",
    "    theta4 = random.uniform(-2, 2)\n",
    "    theta5 = random.uniform(-2, 2)\n",
    "\n",
    "    # 簡単に記載するために辞書という形にパラメータを収納しておく。今回は鼻sの本筋とは関係ないので説明は省略\n",
    "    params = {\"w_13\":w_13, \"w_14\":w_14, \"w_23\":w_23, \"w_24\":w_24, \"w_35\":w_35, \"w_45\":w_45, \"theta3\":theta3, \"theta4\":theta4, \"theta5\":theta5}\n",
    "\n",
    "    y_11 = multilayer_perceptron(1, 1, params)\n",
    "    y_10 = multilayer_perceptron(1, 0, params)\n",
    "    y_01 = multilayer_perceptron(0, 1, params)\n",
    "    y_00 = multilayer_perceptron(0, 0, params)\n",
    "    \n",
    "    result = [y_11, y_10, y_01, y_00]\n",
    "    count += 1\n"
   ]
  },
  {
   "cell_type": "markdown",
   "metadata": {},
   "source": [
    "セルの実行が終わったら、本当に正しいのか確かめてみましょう"
   ]
  },
  {
   "cell_type": "code",
   "execution_count": null,
   "metadata": {},
   "outputs": [],
   "source": [
    "print(\"x1 = 1, x2 = 1 ⇒\", multilayer_perceptron(1, 1, params))\n",
    "print(\"x1 = 1, x2 = 1 ⇒\", multilayer_perceptron(1, 0, params))\n",
    "print(\"x1 = 1, x2 = 1 ⇒\", multilayer_perceptron(0, 1, params))\n",
    "print(\"x1 = 1, x2 = 1 ⇒\", multilayer_perceptron(0, 0, params))"
   ]
  },
  {
   "cell_type": "markdown",
   "metadata": {},
   "source": [
    "確かに！きちんと排他的論理和の出力と一致していますね"
   ]
  },
  {
   "cell_type": "markdown",
   "metadata": {},
   "source": [
    "ちなみに、なんど繰り返しパラメータを変更したのかを見るためには以下のセルを実行すればわかります"
   ]
  },
  {
   "cell_type": "code",
   "execution_count": null,
   "metadata": {},
   "outputs": [],
   "source": [
    "count"
   ]
  },
  {
   "cell_type": "markdown",
   "metadata": {},
   "source": [
    "また、今回計算した排他的論理和を出力するネットワークのパラメータは以下のようになっています"
   ]
  },
  {
   "cell_type": "code",
   "execution_count": null,
   "metadata": {},
   "outputs": [],
   "source": [
    "import pandas as pd\n",
    "pd.DataFrame(pd.Series(params), columns=[\"パラメータ\"])"
   ]
  },
  {
   "cell_type": "markdown",
   "metadata": {},
   "source": [
    "このように、パラメータの値を更新していくことを、人間が失敗を反省し再びやり直すことに対応させ、「学習」と呼んでいます。<br>\n",
    "また、今回はパラメータの更新を完全にランダムで行っていましたが、誤差から逆算してパラメータの値を変化させる「誤差逆伝搬法」は、学習効率を飛躍的に上昇させました。<br>\n",
    "そして、このネットワークをさらに多層化させ、もう一工夫させることによって認識精度をさらに上げたのが皆さんご存じの「deep neural network」です。"
   ]
  },
  {
   "cell_type": "code",
   "execution_count": null,
   "metadata": {},
   "outputs": [],
   "source": []
  }
 ],
 "metadata": {
  "kernelspec": {
   "display_name": "Python 3",
   "language": "python",
   "name": "python3"
  },
  "language_info": {
   "codemirror_mode": {
    "name": "ipython",
    "version": 3
   },
   "file_extension": ".py",
   "mimetype": "text/x-python",
   "name": "python",
   "nbconvert_exporter": "python",
   "pygments_lexer": "ipython3",
   "version": "3.7.3"
  }
 },
 "nbformat": 4,
 "nbformat_minor": 2
}
