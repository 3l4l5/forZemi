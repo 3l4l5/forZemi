{
 "cells": [
  {
   "cell_type": "markdown",
   "metadata": {},
   "source": [
    "# パーセプトロン"
   ]
  },
  {
   "cell_type": "markdown",
   "metadata": {},
   "source": [
    "<img src=\"https://i1.wp.com/slash-mochi.net/wp-content/uploads/2018/09/20180903_001.jpg?ssl=1\">"
   ]
  },
  {
   "cell_type": "markdown",
   "metadata": {},
   "source": [
    "パーセプトロンとは上の図で示されているような構造を持つ計算機構\n",
    "<br>計算式では"
   ]
  },
  {
   "cell_type": "markdown",
   "metadata": {},
   "source": [
    "\\begin{equation} z = w_{1}x_{1} +w_{2}x_{2}\\tag{1}\\end{equation}<br>\n",
    "\\begin{cases}z>\\theta \\Rightarrow y = 1\\\\z\\leq \\theta \\Rightarrow y = 0\\tag{2}\\end{cases}"
   ]
  },
  {
   "cell_type": "markdown",
   "metadata": {},
   "source": [
    "であらわされます"
   ]
  },
  {
   "cell_type": "markdown",
   "metadata": {},
   "source": [
    "さて、何のこっちゃという感じだと思いますが、具体例で考えて見よう<br>例えばこんな真理値表があったとする"
   ]
  },
  {
   "cell_type": "markdown",
   "metadata": {},
   "source": [
    "|\\begin{align}x_{1}\\end{align}|\\begin{align}x_{2}\\end{align}|\\begin{align}y\\end{align}|\n",
    "|:----------------------------|:----------------------------|:------------------------|\n",
    "|1|1|1|\n",
    "|1|0|1|\n",
    "|0|1|1|\n",
    "|0|0|0|"
   ]
  },
  {
   "cell_type": "markdown",
   "metadata": {},
   "source": [
    "皆さんご存じこれはOR演算の真理値表です\n",
    "<br>実は、これは先ほどのパーセプトロンで計算することができます\n",
    "<br>もし、上の式において$w_{1}$,$w_{2}$,$\\theta$の値が"
   ]
  },
  {
   "cell_type": "markdown",
   "metadata": {},
   "source": [
    "\\begin{align} w_{1} & =  0.6\\end{align}\n",
    "\\begin{align} w_{2} & =  0.6 \\end{align}\n",
    "\\begin{align} \\theta & =  0.5\\end{align}"
   ]
  },
  {
   "cell_type": "markdown",
   "metadata": {},
   "source": [
    "だったとしたら, $x_{1},x_{2}$ の入力に対して $z$ はどのように計算されるでしょうか"
   ]
  },
  {
   "cell_type": "markdown",
   "metadata": {},
   "source": [
    "\\begin{align} z = x_{1}\\times0.6 +x_{2}\\times0.7\\end{align}<br>\n",
    "と計算されるので$z$は"
   ]
  },
  {
   "cell_type": "markdown",
   "metadata": {},
   "source": [
    "|\\begin{align}x_{1}\\end{align}|\\begin{align}x_{2}\\end{align}|\\begin{align}z\\end{align}|\n",
    "|:----------------------------|:----------------------------|:------------------------|\n",
    "|1|1|1.3|\n",
    "|1|0|0.6|\n",
    "|0|1|0.7|\n",
    "|0|0|0|"
   ]
  },
  {
   "cell_type": "markdown",
   "metadata": {},
   "source": [
    "と計算されますね"
   ]
  },
  {
   "cell_type": "markdown",
   "metadata": {},
   "source": [
    "\\begin{align}\n",
    "\\sin(\\alpha \\pm \\beta) &= \\sin \\alpha \\cos \\beta \\pm \\cos \\alpha \\sin \\beta \\\\\n",
    "\\cos(\\alpha \\pm \\beta) &= \\cos \\alpha \\cos \\beta \\mp \\sin \\alpha \\sin \\beta \\\\\n",
    "\\tan(\\alpha \\pm \\beta) &= \\frac{\\tan \\alpha \\pm \\tan \\beta}{1 \\mp \\tan \\alpha \\tan \\beta}\n",
    "\\end{align}"
   ]
  },
  {
   "cell_type": "markdown",
   "metadata": {},
   "source": [
    "\\begin{align} z = w_{1}x_{1} +w_{2}x_{2}\\end{align}"
   ]
  },
  {
   "cell_type": "markdown",
   "metadata": {},
   "source": [
    "\\begin{cases}w_{1}x_{1} +w_{2}x_{2}>\\theta  \\Rightarrow y=1\\\\\n",
    "w_{1}x_{1} +w_{2}x_{2}\\leq\\theta \\Rightarrow y=0\n",
    "\\end{cases}"
   ]
  },
  {
   "cell_type": "markdown",
   "metadata": {},
   "source": [
    "の式であらわされる"
   ]
  },
  {
   "cell_type": "code",
   "execution_count": null,
   "metadata": {},
   "outputs": [],
   "source": []
  }
 ],
 "metadata": {
  "kernelspec": {
   "display_name": "Python 3",
   "language": "python",
   "name": "python3"
  },
  "language_info": {
   "codemirror_mode": {
    "name": "ipython",
    "version": 3
   },
   "file_extension": ".py",
   "mimetype": "text/x-python",
   "name": "python",
   "nbconvert_exporter": "python",
   "pygments_lexer": "ipython3",
   "version": "3.7.3"
  }
 },
 "nbformat": 4,
 "nbformat_minor": 2
}
